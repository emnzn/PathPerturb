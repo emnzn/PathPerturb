{
 "cells": [
  {
   "cell_type": "code",
   "execution_count": 1,
   "metadata": {},
   "outputs": [],
   "source": [
    "import os\n",
    "import json\n",
    "\n",
    "import torch\n",
    "import deeplake\n",
    "import numpy as np\n",
    "from tqdm import tqdm\n",
    "from PIL import Image\n",
    "import matplotlib.pyplot as plt\n",
    "from torchvision import datasets, transforms\n",
    "from torch.utils.data import Dataset, DataLoader"
   ]
  },
  {
   "cell_type": "code",
   "execution_count": 2,
   "metadata": {},
   "outputs": [],
   "source": [
    "map_path = os.path.join(\"..\", \"data\", \"gleason-grading\")\n",
    "\n",
    "label_map_path = os.path.join(map_path, \"label-map.json\")\n",
    "train_map_path = os.path.join(map_path, \"train-file-map.json\")\n",
    "val_map_path = os.path.join(map_path, \"test-file-map.json\")\n",
    "\n",
    "with open(label_map_path, \"r\") as f: label_map = json.load(f)\n",
    "with open(train_map_path, \"r\") as f: train_file_map = json.load(f)\n",
    "with open(val_map_path, \"r\") as f: val_file_map = json.load(f)\n",
    "\n",
    "label_map = {v: k for k, v in label_map.items()}\n",
    "train_file_map = {v: k for k, v in train_file_map.items()}\n",
    "val_file_map = {v: k for k, v in val_file_map.items()}"
   ]
  },
  {
   "cell_type": "code",
   "execution_count": 3,
   "metadata": {},
   "outputs": [],
   "source": [
    "data_dir = os.path.join(\"..\", \"embeddings\", \"gleason-grading\", \"uni\")\n",
    "train_dir = os.path.join(data_dir, \"train\")\n",
    "val_dir = os.path.join(data_dir, \"test\")\n",
    "\n",
    "train_ds = deeplake.open_read_only(train_dir)\n",
    "val_ds = deeplake.open_read_only(val_dir)\n"
   ]
  },
  {
   "cell_type": "code",
   "execution_count": 4,
   "metadata": {},
   "outputs": [
    {
     "name": "stdout",
     "output_type": "stream",
     "text": [
      "len train: 899331\n",
      "len val: 373726\n"
     ]
    }
   ],
   "source": [
    "print(\"len train:\", len(train_ds))\n",
    "print(\"len val:\", len(val_ds))"
   ]
  },
  {
   "cell_type": "code",
   "execution_count": 23,
   "metadata": {},
   "outputs": [
    {
     "name": "stdout",
     "output_type": "stream",
     "text": [
      "Train:\n",
      "embedding shape:  (1024,)\n",
      "label:  G4\n",
      "file key:  P8811_D14_Scan1_G4_9_538_886.tif\n"
     ]
    }
   ],
   "source": [
    "idx = 530000\n",
    "\n",
    "print(\"Train:\")\n",
    "print(\"embedding shape: \", train_ds[idx][\"embedding\"].shape)\n",
    "print(\"label: \", label_map[train_ds[idx][\"label\"].item()])\n",
    "print(\"file key: \", train_file_map[train_ds[idx][\"file_key\"].item()])"
   ]
  },
  {
   "cell_type": "code",
   "execution_count": 48,
   "metadata": {},
   "outputs": [
    {
     "name": "stdout",
     "output_type": "stream",
     "text": [
      "Validation:\n",
      "embedding shape:  (1024,)\n",
      "label:  Stroma\n",
      "file key:  11366_18_S1_HE_Scan1_Stroma_3_8503_6945.tif\n"
     ]
    }
   ],
   "source": [
    "idx = 310000\n",
    "\n",
    "print(\"Validation:\")\n",
    "print(\"embedding shape: \", val_ds[idx][\"embedding\"].shape)\n",
    "print(\"label: \", label_map[val_ds[idx][\"label\"].item()])\n",
    "print(\"file key: \", val_file_map[val_ds[idx][\"file_key\"].item()])"
   ]
  },
  {
   "cell_type": "code",
   "execution_count": 65,
   "metadata": {},
   "outputs": [
    {
     "name": "stdout",
     "output_type": "stream",
     "text": [
      "Normal composition: 0.1466\n",
      "Stroma composition: 0.168\n",
      "G3 composition: 0.2479\n",
      "G4 composition: 0.4057\n",
      "G5 composition: 0.0319\n"
     ]
    }
   ],
   "source": [
    "for i in range(5):\n",
    "    print(label_map[i], \"composition:\",\n",
    "        round(train_ds.query(\n",
    "            f\"\"\"\n",
    "            SELECT * WHERE label == {i}\n",
    "            \"\"\"\n",
    "        )[:][\"label\"].shape[0] / len(train_ds), 4))"
   ]
  },
  {
   "cell_type": "code",
   "execution_count": 79,
   "metadata": {},
   "outputs": [
    {
     "data": {
      "text/plain": [
       "{0: 'Normal', 1: 'Stroma', 2: 'G3', 3: 'G4', 4: 'G5'}"
      ]
     },
     "execution_count": 79,
     "metadata": {},
     "output_type": "execute_result"
    }
   ],
   "source": [
    "label_map"
   ]
  },
  {
   "cell_type": "code",
   "execution_count": 81,
   "metadata": {},
   "outputs": [
    {
     "data": {
      "text/plain": [
       "array([748289, 748290, 748291, ..., 899334, 899335, 899336], dtype=int32)"
      ]
     },
     "execution_count": 81,
     "metadata": {},
     "output_type": "execute_result"
    }
   ],
   "source": [
    "stroma_train = train_ds.query(\"SELECT * where label == 1\").pytorch()[:]\n",
    "\n",
    "stroma_train[\"file_key\"]"
   ]
  },
  {
   "cell_type": "code",
   "execution_count": null,
   "metadata": {},
   "outputs": [],
   "source": [
    "[train_file_map[i] for i in stroma_train[\"file_key\"].numpy().tolist()]"
   ]
  }
 ],
 "metadata": {
  "kernelspec": {
   "display_name": "histology",
   "language": "python",
   "name": "python3"
  },
  "language_info": {
   "codemirror_mode": {
    "name": "ipython",
    "version": 3
   },
   "file_extension": ".py",
   "mimetype": "text/x-python",
   "name": "python",
   "nbconvert_exporter": "python",
   "pygments_lexer": "ipython3",
   "version": "3.11.9"
  }
 },
 "nbformat": 4,
 "nbformat_minor": 2
}
