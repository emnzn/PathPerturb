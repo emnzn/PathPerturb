{
 "cells": [
  {
   "cell_type": "code",
   "execution_count": 1,
   "metadata": {},
   "outputs": [],
   "source": [
    "import os\n",
    "\n",
    "import torch\n",
    "import deeplake\n",
    "import numpy as np\n",
    "from torch.utils.data import DataLoader"
   ]
  },
  {
   "cell_type": "code",
   "execution_count": 2,
   "metadata": {},
   "outputs": [],
   "source": [
    "data_dir = os.path.join(\"..\", \"embeddings\", \"gleason-grading\", \"uni\", \"perturbations\")\n",
    "\n",
    "alpha = -1.000\n",
    "\n",
    "deeplake_ds = deeplake.open_read_only(os.path.join(data_dir, \"brightness\", f\"brightness_{alpha:.4f}\"))"
   ]
  },
  {
   "cell_type": "code",
   "execution_count": 3,
   "metadata": {},
   "outputs": [
    {
     "data": {
      "text/plain": [
       "373726"
      ]
     },
     "execution_count": 3,
     "metadata": {},
     "output_type": "execute_result"
    }
   ],
   "source": [
    "len(deeplake_ds)"
   ]
  },
  {
   "cell_type": "code",
   "execution_count": 4,
   "metadata": {},
   "outputs": [
    {
     "data": {
      "text/plain": [
       "(1024,)"
      ]
     },
     "execution_count": 4,
     "metadata": {},
     "output_type": "execute_result"
    }
   ],
   "source": [
    "deeplake_ds[0][\"embedding\"].shape"
   ]
  },
  {
   "cell_type": "code",
   "execution_count": 5,
   "metadata": {},
   "outputs": [
    {
     "data": {
      "text/plain": [
       "array([[-1.0332096 , -0.29899368,  1.1959273 , ..., -1.9232315 ,\n",
       "         0.4669072 , -1.3170501 ],\n",
       "       [-1.0332096 , -0.29899368,  1.1959273 , ..., -1.9232315 ,\n",
       "         0.4669072 , -1.3170501 ],\n",
       "       [-1.0332096 , -0.29899368,  1.1959273 , ..., -1.9232315 ,\n",
       "         0.4669072 , -1.3170501 ],\n",
       "       ...,\n",
       "       [-1.0332096 , -0.29899368,  1.1959273 , ..., -1.9232315 ,\n",
       "         0.4669072 , -1.3170501 ],\n",
       "       [-1.0332096 , -0.29899368,  1.1959273 , ..., -1.9232315 ,\n",
       "         0.4669072 , -1.3170501 ],\n",
       "       [-1.0332096 , -0.29899368,  1.1959273 , ..., -1.9232315 ,\n",
       "         0.4669072 , -1.3170501 ]], dtype=float32)"
      ]
     },
     "execution_count": 5,
     "metadata": {},
     "output_type": "execute_result"
    }
   ],
   "source": [
    "deeplake_ds[:][\"embedding\"]"
   ]
  },
  {
   "cell_type": "code",
   "execution_count": 6,
   "metadata": {},
   "outputs": [
    {
     "data": {
      "text/plain": [
       "True"
      ]
     },
     "execution_count": 6,
     "metadata": {},
     "output_type": "execute_result"
    }
   ],
   "source": [
    "embeddings = deeplake_ds[:][\"embedding\"]  \n",
    "\n",
    "embeddings = np.array(embeddings)  \n",
    "\n",
    "reference = embeddings[0]\n",
    "all_equal = np.allclose(embeddings, reference, atol=1e-6)\n",
    "\n",
    "all_equal"
   ]
  },
  {
   "cell_type": "code",
   "execution_count": 7,
   "metadata": {},
   "outputs": [
    {
     "data": {
      "text/plain": [
       "array([-1.        , -0.77777778, -0.55555556, -0.33333333, -0.11111111,\n",
       "        0.11111111,  0.33333333,  0.55555556,  0.77777778,  1.        ])"
      ]
     },
     "execution_count": 7,
     "metadata": {},
     "output_type": "execute_result"
    }
   ],
   "source": [
    "np.linspace(-1, 1, 10)"
   ]
  },
  {
   "cell_type": "code",
   "execution_count": 11,
   "metadata": {},
   "outputs": [
    {
     "name": "stdout",
     "output_type": "stream",
     "text": [
      "-1.0\n",
      "-0.8\n",
      "-0.6\n",
      "-0.4\n",
      "-0.2\n",
      "-0.0\n",
      "0.2\n",
      "0.4\n",
      "0.6\n",
      "0.8\n",
      "1.0\n"
     ]
    }
   ],
   "source": [
    "interval = 0.2\n",
    "for strength in np.arange(-1.0, 1.0 + interval, interval).round(4):\n",
    "    print(strength)"
   ]
  },
  {
   "cell_type": "code",
   "execution_count": null,
   "metadata": {},
   "outputs": [],
   "source": []
  }
 ],
 "metadata": {
  "kernelspec": {
   "display_name": "histology",
   "language": "python",
   "name": "python3"
  },
  "language_info": {
   "codemirror_mode": {
    "name": "ipython",
    "version": 3
   },
   "file_extension": ".py",
   "mimetype": "text/x-python",
   "name": "python",
   "nbconvert_exporter": "python",
   "pygments_lexer": "ipython3",
   "version": "3.11.9"
  }
 },
 "nbformat": 4,
 "nbformat_minor": 2
}
