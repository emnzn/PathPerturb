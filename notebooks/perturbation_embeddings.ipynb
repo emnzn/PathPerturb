{
 "cells": [
  {
   "cell_type": "code",
   "execution_count": 1,
   "metadata": {},
   "outputs": [],
   "source": [
    "import os\n",
    "\n",
    "import torch\n",
    "import deeplake\n",
    "import numpy as np\n",
    "from torch.utils.data import DataLoader"
   ]
  },
  {
   "cell_type": "code",
   "execution_count": 3,
   "metadata": {},
   "outputs": [],
   "source": [
    "data_dir = os.path.join(\"..\", \"embeddings\", \"gleason-grading\", \"uni\", \"perturbations\")\n",
    "\n",
    "alpha = 1.0\n",
    "\n",
    "deeplake_ds = deeplake.open_read_only(os.path.join(data_dir, \"brightness\", f\"brightness_{alpha}\"))"
   ]
  },
  {
   "cell_type": "code",
   "execution_count": 4,
   "metadata": {},
   "outputs": [
    {
     "data": {
      "text/plain": [
       "373726"
      ]
     },
     "execution_count": 4,
     "metadata": {},
     "output_type": "execute_result"
    }
   ],
   "source": [
    "len(deeplake_ds)"
   ]
  },
  {
   "cell_type": "code",
   "execution_count": 5,
   "metadata": {},
   "outputs": [
    {
     "data": {
      "text/plain": [
       "(1024,)"
      ]
     },
     "execution_count": 5,
     "metadata": {},
     "output_type": "execute_result"
    }
   ],
   "source": [
    "deeplake_ds[0][\"embedding\"].shape"
   ]
  },
  {
   "cell_type": "code",
   "execution_count": 6,
   "metadata": {},
   "outputs": [
    {
     "data": {
      "text/plain": [
       "array([[ 2.5508862 ,  1.8063146 , -0.3217913 , ..., -0.29317924,\n",
       "        -0.23861362,  2.9770434 ],\n",
       "       [ 2.5508862 ,  1.8063146 , -0.3217913 , ..., -0.29317924,\n",
       "        -0.23861362,  2.9770434 ],\n",
       "       [ 2.5508862 ,  1.8063146 , -0.3217913 , ..., -0.29317924,\n",
       "        -0.23861362,  2.9770434 ],\n",
       "       ...,\n",
       "       [ 2.5508862 ,  1.8063146 , -0.3217913 , ..., -0.29317924,\n",
       "        -0.23861362,  2.9770434 ],\n",
       "       [ 2.5508862 ,  1.8063146 , -0.3217913 , ..., -0.29317924,\n",
       "        -0.23861362,  2.9770434 ],\n",
       "       [ 2.5508862 ,  1.8063146 , -0.3217913 , ..., -0.29317924,\n",
       "        -0.23861362,  2.9770434 ]], dtype=float32)"
      ]
     },
     "execution_count": 6,
     "metadata": {},
     "output_type": "execute_result"
    }
   ],
   "source": [
    "deeplake_ds[:][\"embedding\"]"
   ]
  },
  {
   "cell_type": "code",
   "execution_count": 7,
   "metadata": {},
   "outputs": [
    {
     "data": {
      "text/plain": [
       "True"
      ]
     },
     "execution_count": 7,
     "metadata": {},
     "output_type": "execute_result"
    }
   ],
   "source": [
    "embeddings = deeplake_ds[:][\"embedding\"]  \n",
    "\n",
    "embeddings = np.array(embeddings)  \n",
    "\n",
    "reference = embeddings[0]\n",
    "all_equal = np.allclose(embeddings, reference, atol=1e-6)\n",
    "\n",
    "all_equal"
   ]
  },
  {
   "cell_type": "code",
   "execution_count": null,
   "metadata": {},
   "outputs": [],
   "source": []
  }
 ],
 "metadata": {
  "kernelspec": {
   "display_name": "histology",
   "language": "python",
   "name": "python3"
  },
  "language_info": {
   "codemirror_mode": {
    "name": "ipython",
    "version": 3
   },
   "file_extension": ".py",
   "mimetype": "text/x-python",
   "name": "python",
   "nbconvert_exporter": "python",
   "pygments_lexer": "ipython3",
   "version": "3.11.9"
  }
 },
 "nbformat": 4,
 "nbformat_minor": 2
}
